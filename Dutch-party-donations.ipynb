{
 "cells": [
  {
   "cell_type": "markdown",
   "metadata": {},
   "source": [
    "# Donations to political parties in the Netherlands\n",
    "\n",
    "By Els Engel\n",
    "\n",
    "My first real python project. I'm trying to get an overview of donations to political parties in the Netherlands. It's not news any more, since the dataset was released in March, but it's interesting data any way.\n",
    "\n",
    "Data: [Rijksoverheid.nl](https://www.rijksoverheid.nl/documenten/publicaties/2017/03/08/overzicht-giften-en-schulden-politieke-partijen-tweede-kamerverkiezingen) (first download link)\n",
    "\n",
    "As you can see, it's pdf. I opened it in Adobe Reader, saved as excel and did some very minimal cleaning in Open Office. Then saved to csv.\n",
    "\n",
    "Two points:\n",
    "- Only donations higher than € 4.500 are included in the data set\n",
    "- Some political parties require their politicians to contribute (part of) their income to the party. Those donations are also included (that's why the SP has so many donations)\n",
    "\n"
   ]
  },
  {
   "cell_type": "markdown",
   "metadata": {},
   "source": [
    "### Import the data"
   ]
  },
  {
   "cell_type": "code",
   "execution_count": 25,
   "metadata": {
    "collapsed": true
   },
   "outputs": [],
   "source": [
    "import pandas as pd"
   ]
  },
  {
   "cell_type": "markdown",
   "metadata": {},
   "source": [
    "All the donations (Dutch csv's are delimitered with ; because our decimal symbol is a ,)"
   ]
  },
  {
   "cell_type": "code",
   "execution_count": 26,
   "metadata": {
    "collapsed": true
   },
   "outputs": [],
   "source": [
    "giften = pd.read_csv(\"file:///Users/elsengel/Desktop/partijen.csv\", sep=\";\")"
   ]
  },
  {
   "cell_type": "markdown",
   "metadata": {},
   "source": [
    "For future use: all members of the government, so I can exclude them from the data set"
   ]
  },
  {
   "cell_type": "code",
   "execution_count": 27,
   "metadata": {
    "collapsed": true
   },
   "outputs": [],
   "source": [
    "kieslijst = pd.read_csv(\"file:///Users/elsengel/Desktop/kieslijst.csv\", sep=\";\")"
   ]
  },
  {
   "cell_type": "markdown",
   "metadata": {},
   "source": [
    "### This is what the messy data set looks like, time to clean"
   ]
  },
  {
   "cell_type": "code",
   "execution_count": 29,
   "metadata": {},
   "outputs": [
    {
     "data": {
      "text/html": [
       "<div>\n",
       "<style>\n",
       "    .dataframe thead tr:only-child th {\n",
       "        text-align: right;\n",
       "    }\n",
       "\n",
       "    .dataframe thead th {\n",
       "        text-align: left;\n",
       "    }\n",
       "\n",
       "    .dataframe tbody tr th {\n",
       "        vertical-align: top;\n",
       "    }\n",
       "</style>\n",
       "<table border=\"1\" class=\"dataframe\">\n",
       "  <thead>\n",
       "    <tr style=\"text-align: right;\">\n",
       "      <th></th>\n",
       "      <th>Partij</th>\n",
       "      <th>full_name</th>\n",
       "      <th>adres_gever</th>\n",
       "      <th>bedrag</th>\n",
       "      <th>totaalbedrag</th>\n",
       "      <th>tijdvak</th>\n",
       "    </tr>\n",
       "  </thead>\n",
       "  <tbody>\n",
       "    <tr>\n",
       "      <th>0</th>\n",
       "      <td>NaN</td>\n",
       "      <td>1. Volkspartij voor de Vrijheid en Democratie ...</td>\n",
       "      <td>NaN</td>\n",
       "      <td>NaN</td>\n",
       "      <td>NaN</td>\n",
       "      <td>NaN</td>\n",
       "    </tr>\n",
       "    <tr>\n",
       "      <th>1</th>\n",
       "      <td>NaN</td>\n",
       "      <td>Vereniging Volkspartij voor Vrijheid en Democr...</td>\n",
       "      <td>NaN</td>\n",
       "      <td>NaN</td>\n",
       "      <td>NaN</td>\n",
       "      <td>NaN</td>\n",
       "    </tr>\n",
       "    <tr>\n",
       "      <th>2</th>\n",
       "      <td>1. Volkspartij voor de Vrijheid en Democratie ...</td>\n",
       "      <td>Stichting Godefridus van Hees Fonds</td>\n",
       "      <td>Eikenlaan 22 4356 HE Oostkapelle</td>\n",
       "      <td>35000</td>\n",
       "      <td>NaN</td>\n",
       "      <td>12 March 2015</td>\n",
       "    </tr>\n",
       "    <tr>\n",
       "      <th>3</th>\n",
       "      <td>1. Volkspartij voor de Vrijheid en Democratie ...</td>\n",
       "      <td>Naam gever</td>\n",
       "      <td>Adres gever</td>\n",
       "      <td>Bedrag</td>\n",
       "      <td>Totaalbedrag</td>\n",
       "      <td>Datum bijdrage</td>\n",
       "    </tr>\n",
       "    <tr>\n",
       "      <th>4</th>\n",
       "      <td>1. Volkspartij voor de Vrijheid en Democratie ...</td>\n",
       "      <td>NaN</td>\n",
       "      <td>NaN</td>\n",
       "      <td>NaN</td>\n",
       "      <td>35000</td>\n",
       "      <td>Subtotaal 2015</td>\n",
       "    </tr>\n",
       "  </tbody>\n",
       "</table>\n",
       "</div>"
      ],
      "text/plain": [
       "                                              Partij  \\\n",
       "0                                                NaN   \n",
       "1                                                NaN   \n",
       "2  1. Volkspartij voor de Vrijheid en Democratie ...   \n",
       "3  1. Volkspartij voor de Vrijheid en Democratie ...   \n",
       "4  1. Volkspartij voor de Vrijheid en Democratie ...   \n",
       "\n",
       "                                           full_name  \\\n",
       "0  1. Volkspartij voor de Vrijheid en Democratie ...   \n",
       "1  Vereniging Volkspartij voor Vrijheid en Democr...   \n",
       "2                Stichting Godefridus van Hees Fonds   \n",
       "3                                         Naam gever   \n",
       "4                                                NaN   \n",
       "\n",
       "                        adres_gever  bedrag  totaalbedrag         tijdvak  \n",
       "0                               NaN     NaN           NaN             NaN  \n",
       "1                               NaN     NaN           NaN             NaN  \n",
       "2  Eikenlaan 22 4356 HE Oostkapelle   35000           NaN   12 March 2015  \n",
       "3                       Adres gever  Bedrag  Totaalbedrag  Datum bijdrage  \n",
       "4                               NaN     NaN         35000  Subtotaal 2015  "
      ]
     },
     "execution_count": 29,
     "metadata": {},
     "output_type": "execute_result"
    }
   ],
   "source": [
    "giften.head()"
   ]
  },
  {
   "cell_type": "markdown",
   "metadata": {},
   "source": [
    "Every page in de pdf repeated the column names, so I have to get those out of the rows"
   ]
  },
  {
   "cell_type": "code",
   "execution_count": 31,
   "metadata": {
    "collapsed": true
   },
   "outputs": [],
   "source": [
    "giften.full_name = giften.full_name.replace(to_replace=\"Naam gever\")"
   ]
  },
  {
   "cell_type": "markdown",
   "metadata": {},
   "source": [
    "If one person donated more than once, the name wasn't repeated on the next row, there's this neat function in pandas to fix that"
   ]
  },
  {
   "cell_type": "code",
   "execution_count": 32,
   "metadata": {
    "collapsed": true
   },
   "outputs": [],
   "source": [
    "giften.full_name = giften.full_name.fillna(method='ffill') "
   ]
  },
  {
   "cell_type": "code",
   "execution_count": 33,
   "metadata": {},
   "outputs": [
    {
     "data": {
      "text/html": [
       "<div>\n",
       "<style>\n",
       "    .dataframe thead tr:only-child th {\n",
       "        text-align: right;\n",
       "    }\n",
       "\n",
       "    .dataframe thead th {\n",
       "        text-align: left;\n",
       "    }\n",
       "\n",
       "    .dataframe tbody tr th {\n",
       "        vertical-align: top;\n",
       "    }\n",
       "</style>\n",
       "<table border=\"1\" class=\"dataframe\">\n",
       "  <thead>\n",
       "    <tr style=\"text-align: right;\">\n",
       "      <th></th>\n",
       "      <th>Partij</th>\n",
       "      <th>full_name</th>\n",
       "      <th>adres_gever</th>\n",
       "      <th>bedrag</th>\n",
       "      <th>totaalbedrag</th>\n",
       "      <th>tijdvak</th>\n",
       "    </tr>\n",
       "  </thead>\n",
       "  <tbody>\n",
       "    <tr>\n",
       "      <th>0</th>\n",
       "      <td>NaN</td>\n",
       "      <td>1. Volkspartij voor de Vrijheid en Democratie ...</td>\n",
       "      <td>NaN</td>\n",
       "      <td>NaN</td>\n",
       "      <td>NaN</td>\n",
       "      <td>NaN</td>\n",
       "    </tr>\n",
       "    <tr>\n",
       "      <th>1</th>\n",
       "      <td>NaN</td>\n",
       "      <td>Vereniging Volkspartij voor Vrijheid en Democr...</td>\n",
       "      <td>NaN</td>\n",
       "      <td>NaN</td>\n",
       "      <td>NaN</td>\n",
       "      <td>NaN</td>\n",
       "    </tr>\n",
       "    <tr>\n",
       "      <th>2</th>\n",
       "      <td>1. Volkspartij voor de Vrijheid en Democratie ...</td>\n",
       "      <td>Stichting Godefridus van Hees Fonds</td>\n",
       "      <td>Eikenlaan 22 4356 HE Oostkapelle</td>\n",
       "      <td>35000</td>\n",
       "      <td>NaN</td>\n",
       "      <td>12 March 2015</td>\n",
       "    </tr>\n",
       "    <tr>\n",
       "      <th>3</th>\n",
       "      <td>1. Volkspartij voor de Vrijheid en Democratie ...</td>\n",
       "      <td>Stichting Godefridus van Hees Fonds</td>\n",
       "      <td>Adres gever</td>\n",
       "      <td>Bedrag</td>\n",
       "      <td>Totaalbedrag</td>\n",
       "      <td>Datum bijdrage</td>\n",
       "    </tr>\n",
       "    <tr>\n",
       "      <th>4</th>\n",
       "      <td>1. Volkspartij voor de Vrijheid en Democratie ...</td>\n",
       "      <td>Stichting Godefridus van Hees Fonds</td>\n",
       "      <td>NaN</td>\n",
       "      <td>NaN</td>\n",
       "      <td>35000</td>\n",
       "      <td>Subtotaal 2015</td>\n",
       "    </tr>\n",
       "  </tbody>\n",
       "</table>\n",
       "</div>"
      ],
      "text/plain": [
       "                                              Partij  \\\n",
       "0                                                NaN   \n",
       "1                                                NaN   \n",
       "2  1. Volkspartij voor de Vrijheid en Democratie ...   \n",
       "3  1. Volkspartij voor de Vrijheid en Democratie ...   \n",
       "4  1. Volkspartij voor de Vrijheid en Democratie ...   \n",
       "\n",
       "                                           full_name  \\\n",
       "0  1. Volkspartij voor de Vrijheid en Democratie ...   \n",
       "1  Vereniging Volkspartij voor Vrijheid en Democr...   \n",
       "2                Stichting Godefridus van Hees Fonds   \n",
       "3                Stichting Godefridus van Hees Fonds   \n",
       "4                Stichting Godefridus van Hees Fonds   \n",
       "\n",
       "                        adres_gever  bedrag  totaalbedrag         tijdvak  \n",
       "0                               NaN     NaN           NaN             NaN  \n",
       "1                               NaN     NaN           NaN             NaN  \n",
       "2  Eikenlaan 22 4356 HE Oostkapelle   35000           NaN   12 March 2015  \n",
       "3                       Adres gever  Bedrag  Totaalbedrag  Datum bijdrage  \n",
       "4                               NaN     NaN         35000  Subtotaal 2015  "
      ]
     },
     "execution_count": 33,
     "metadata": {},
     "output_type": "execute_result"
    }
   ],
   "source": [
    "giften.head()"
   ]
  },
  {
   "cell_type": "markdown",
   "metadata": {},
   "source": [
    "### Let's focus on last year's donations"
   ]
  },
  {
   "cell_type": "code",
   "execution_count": 34,
   "metadata": {
    "collapsed": true
   },
   "outputs": [],
   "source": [
    "giften2016 = giften[giften.tijdvak == \"Subtotaal 2016\"]"
   ]
  },
  {
   "cell_type": "code",
   "execution_count": 36,
   "metadata": {},
   "outputs": [
    {
     "data": {
      "text/html": [
       "<div>\n",
       "<style>\n",
       "    .dataframe thead tr:only-child th {\n",
       "        text-align: right;\n",
       "    }\n",
       "\n",
       "    .dataframe thead th {\n",
       "        text-align: left;\n",
       "    }\n",
       "\n",
       "    .dataframe tbody tr th {\n",
       "        vertical-align: top;\n",
       "    }\n",
       "</style>\n",
       "<table border=\"1\" class=\"dataframe\">\n",
       "  <thead>\n",
       "    <tr style=\"text-align: right;\">\n",
       "      <th></th>\n",
       "      <th>Partij</th>\n",
       "      <th>full_name</th>\n",
       "      <th>adres_gever</th>\n",
       "      <th>bedrag</th>\n",
       "      <th>totaalbedrag</th>\n",
       "      <th>tijdvak</th>\n",
       "    </tr>\n",
       "  </thead>\n",
       "  <tbody>\n",
       "    <tr>\n",
       "      <th>6</th>\n",
       "      <td>1. Volkspartij voor de Vrijheid en Democratie ...</td>\n",
       "      <td>Stichting Godefridus van Hees Fonds</td>\n",
       "      <td>NaN</td>\n",
       "      <td>NaN</td>\n",
       "      <td>35000</td>\n",
       "      <td>Subtotaal 2016</td>\n",
       "    </tr>\n",
       "    <tr>\n",
       "      <th>11</th>\n",
       "      <td>1. Volkspartij voor de Vrijheid en Democratie ...</td>\n",
       "      <td>Dhr. Benedictus</td>\n",
       "      <td>NaN</td>\n",
       "      <td>NaN</td>\n",
       "      <td>0</td>\n",
       "      <td>Subtotaal 2016</td>\n",
       "    </tr>\n",
       "    <tr>\n",
       "      <th>16</th>\n",
       "      <td>1. Volkspartij voor de Vrijheid en Democratie ...</td>\n",
       "      <td>Club van 100 Utrecht</td>\n",
       "      <td>NaN</td>\n",
       "      <td>NaN</td>\n",
       "      <td>0</td>\n",
       "      <td>Subtotaal 2016</td>\n",
       "    </tr>\n",
       "    <tr>\n",
       "      <th>21</th>\n",
       "      <td>1. Volkspartij voor de Vrijheid en Democratie ...</td>\n",
       "      <td>Stichting Doe meer met Utrecht</td>\n",
       "      <td>NaN</td>\n",
       "      <td>NaN</td>\n",
       "      <td>0</td>\n",
       "      <td>Subtotaal 2016</td>\n",
       "    </tr>\n",
       "    <tr>\n",
       "      <th>26</th>\n",
       "      <td>1. Volkspartij voor de Vrijheid en Democratie ...</td>\n",
       "      <td>Dhr. Broeders</td>\n",
       "      <td>NaN</td>\n",
       "      <td>NaN</td>\n",
       "      <td>5000</td>\n",
       "      <td>Subtotaal 2016</td>\n",
       "    </tr>\n",
       "  </tbody>\n",
       "</table>\n",
       "</div>"
      ],
      "text/plain": [
       "                                               Partij  \\\n",
       "6   1. Volkspartij voor de Vrijheid en Democratie ...   \n",
       "11  1. Volkspartij voor de Vrijheid en Democratie ...   \n",
       "16  1. Volkspartij voor de Vrijheid en Democratie ...   \n",
       "21  1. Volkspartij voor de Vrijheid en Democratie ...   \n",
       "26  1. Volkspartij voor de Vrijheid en Democratie ...   \n",
       "\n",
       "                              full_name adres_gever bedrag totaalbedrag  \\\n",
       "6   Stichting Godefridus van Hees Fonds         NaN    NaN        35000   \n",
       "11                      Dhr. Benedictus         NaN    NaN            0   \n",
       "16                 Club van 100 Utrecht         NaN    NaN            0   \n",
       "21       Stichting Doe meer met Utrecht         NaN    NaN            0   \n",
       "26                        Dhr. Broeders         NaN    NaN         5000   \n",
       "\n",
       "           tijdvak  \n",
       "6   Subtotaal 2016  \n",
       "11  Subtotaal 2016  \n",
       "16  Subtotaal 2016  \n",
       "21  Subtotaal 2016  \n",
       "26  Subtotaal 2016  "
      ]
     },
     "execution_count": 36,
     "metadata": {},
     "output_type": "execute_result"
    }
   ],
   "source": [
    "giften2016.head()"
   ]
  },
  {
   "cell_type": "markdown",
   "metadata": {},
   "source": [
    "Remove people who donated nothing last year"
   ]
  },
  {
   "cell_type": "code",
   "execution_count": 37,
   "metadata": {
    "collapsed": true
   },
   "outputs": [],
   "source": [
    "giften2016 = giften2016[giften2016.totaalbedrag != \"0\"]"
   ]
  },
  {
   "cell_type": "code",
   "execution_count": 38,
   "metadata": {},
   "outputs": [
    {
     "data": {
      "text/html": [
       "<div>\n",
       "<style>\n",
       "    .dataframe thead tr:only-child th {\n",
       "        text-align: right;\n",
       "    }\n",
       "\n",
       "    .dataframe thead th {\n",
       "        text-align: left;\n",
       "    }\n",
       "\n",
       "    .dataframe tbody tr th {\n",
       "        vertical-align: top;\n",
       "    }\n",
       "</style>\n",
       "<table border=\"1\" class=\"dataframe\">\n",
       "  <thead>\n",
       "    <tr style=\"text-align: right;\">\n",
       "      <th></th>\n",
       "      <th>Partij</th>\n",
       "      <th>full_name</th>\n",
       "      <th>adres_gever</th>\n",
       "      <th>bedrag</th>\n",
       "      <th>totaalbedrag</th>\n",
       "      <th>tijdvak</th>\n",
       "    </tr>\n",
       "  </thead>\n",
       "  <tbody>\n",
       "    <tr>\n",
       "      <th>6</th>\n",
       "      <td>1. Volkspartij voor de Vrijheid en Democratie ...</td>\n",
       "      <td>Stichting Godefridus van Hees Fonds</td>\n",
       "      <td>NaN</td>\n",
       "      <td>NaN</td>\n",
       "      <td>35000</td>\n",
       "      <td>Subtotaal 2016</td>\n",
       "    </tr>\n",
       "    <tr>\n",
       "      <th>26</th>\n",
       "      <td>1. Volkspartij voor de Vrijheid en Democratie ...</td>\n",
       "      <td>Dhr. Broeders</td>\n",
       "      <td>NaN</td>\n",
       "      <td>NaN</td>\n",
       "      <td>5000</td>\n",
       "      <td>Subtotaal 2016</td>\n",
       "    </tr>\n",
       "    <tr>\n",
       "      <th>59</th>\n",
       "      <td>2. Partij van de Arbeid (PvdA)</td>\n",
       "      <td>A. Eijsink</td>\n",
       "      <td>NaN</td>\n",
       "      <td>NaN</td>\n",
       "      <td>4836</td>\n",
       "      <td>Subtotaal 2016</td>\n",
       "    </tr>\n",
       "    <tr>\n",
       "      <th>63</th>\n",
       "      <td>2. Partij van de Arbeid (PvdA)</td>\n",
       "      <td>A. Marcouch</td>\n",
       "      <td>NaN</td>\n",
       "      <td>NaN</td>\n",
       "      <td>5274</td>\n",
       "      <td>Subtotaal 2016</td>\n",
       "    </tr>\n",
       "    <tr>\n",
       "      <th>67</th>\n",
       "      <td>2. Partij van de Arbeid (PvdA)</td>\n",
       "      <td>A.A. de Vries</td>\n",
       "      <td>NaN</td>\n",
       "      <td>NaN</td>\n",
       "      <td>5600</td>\n",
       "      <td>Subtotaal 2016</td>\n",
       "    </tr>\n",
       "  </tbody>\n",
       "</table>\n",
       "</div>"
      ],
      "text/plain": [
       "                                               Partij  \\\n",
       "6   1. Volkspartij voor de Vrijheid en Democratie ...   \n",
       "26  1. Volkspartij voor de Vrijheid en Democratie ...   \n",
       "59                     2. Partij van de Arbeid (PvdA)   \n",
       "63                     2. Partij van de Arbeid (PvdA)   \n",
       "67                     2. Partij van de Arbeid (PvdA)   \n",
       "\n",
       "                              full_name adres_gever bedrag totaalbedrag  \\\n",
       "6   Stichting Godefridus van Hees Fonds         NaN    NaN        35000   \n",
       "26                        Dhr. Broeders         NaN    NaN         5000   \n",
       "59                           A. Eijsink         NaN    NaN         4836   \n",
       "63                          A. Marcouch         NaN    NaN         5274   \n",
       "67                        A.A. de Vries         NaN    NaN         5600   \n",
       "\n",
       "           tijdvak  \n",
       "6   Subtotaal 2016  \n",
       "26  Subtotaal 2016  \n",
       "59  Subtotaal 2016  \n",
       "63  Subtotaal 2016  \n",
       "67  Subtotaal 2016  "
      ]
     },
     "execution_count": 38,
     "metadata": {},
     "output_type": "execute_result"
    }
   ],
   "source": [
    "giften2016.head()"
   ]
  },
  {
   "cell_type": "markdown",
   "metadata": {},
   "source": [
    "### What party received the most donations last year?\n",
    "\n",
    "Of course it's SP, because all their members are required to donate their entire income to the party."
   ]
  },
  {
   "cell_type": "code",
   "execution_count": 41,
   "metadata": {},
   "outputs": [
    {
     "data": {
      "text/html": [
       "<div>\n",
       "<style>\n",
       "    .dataframe thead tr:only-child th {\n",
       "        text-align: right;\n",
       "    }\n",
       "\n",
       "    .dataframe thead th {\n",
       "        text-align: left;\n",
       "    }\n",
       "\n",
       "    .dataframe tbody tr th {\n",
       "        vertical-align: top;\n",
       "    }\n",
       "</style>\n",
       "<table border=\"1\" class=\"dataframe\">\n",
       "  <thead>\n",
       "    <tr style=\"text-align: right;\">\n",
       "      <th></th>\n",
       "      <th>index</th>\n",
       "      <th>Partij</th>\n",
       "    </tr>\n",
       "  </thead>\n",
       "  <tbody>\n",
       "    <tr>\n",
       "      <th>0</th>\n",
       "      <td>4. Socialistische Partij (SP)</td>\n",
       "      <td>597</td>\n",
       "    </tr>\n",
       "    <tr>\n",
       "      <th>1</th>\n",
       "      <td>8. GROENLINKS (GL)</td>\n",
       "      <td>56</td>\n",
       "    </tr>\n",
       "    <tr>\n",
       "      <th>2</th>\n",
       "      <td>2. Partij van de Arbeid (PvdA)</td>\n",
       "      <td>47</td>\n",
       "    </tr>\n",
       "    <tr>\n",
       "      <th>3</th>\n",
       "      <td>6. Democraten 66 (D66)</td>\n",
       "      <td>11</td>\n",
       "    </tr>\n",
       "    <tr>\n",
       "      <th>4</th>\n",
       "      <td>10. Partij voor de Dieren (PvdD)</td>\n",
       "      <td>7</td>\n",
       "    </tr>\n",
       "    <tr>\n",
       "      <th>5</th>\n",
       "      <td>7. ChristenUnie (CU)</td>\n",
       "      <td>3</td>\n",
       "    </tr>\n",
       "    <tr>\n",
       "      <th>6</th>\n",
       "      <td>3. Partij voor de Vrijheid (PVV)</td>\n",
       "      <td>3</td>\n",
       "    </tr>\n",
       "    <tr>\n",
       "      <th>7</th>\n",
       "      <td>1. Volkspartij voor de Vrijheid en Democratie ...</td>\n",
       "      <td>2</td>\n",
       "    </tr>\n",
       "    <tr>\n",
       "      <th>8</th>\n",
       "      <td>9. Staatkundig Gereformeerde Partij (SGP)</td>\n",
       "      <td>1</td>\n",
       "    </tr>\n",
       "    <tr>\n",
       "      <th>9</th>\n",
       "      <td>11. 50PLUS</td>\n",
       "      <td>1</td>\n",
       "    </tr>\n",
       "    <tr>\n",
       "      <th>10</th>\n",
       "      <td>16. Forum voor Democratie</td>\n",
       "      <td>1</td>\n",
       "    </tr>\n",
       "  </tbody>\n",
       "</table>\n",
       "</div>"
      ],
      "text/plain": [
       "                                                index  Partij\n",
       "0                       4. Socialistische Partij (SP)     597\n",
       "1                                  8. GROENLINKS (GL)      56\n",
       "2                      2. Partij van de Arbeid (PvdA)      47\n",
       "3                              6. Democraten 66 (D66)      11\n",
       "4                    10. Partij voor de Dieren (PvdD)       7\n",
       "5                                7. ChristenUnie (CU)       3\n",
       "6                    3. Partij voor de Vrijheid (PVV)       3\n",
       "7   1. Volkspartij voor de Vrijheid en Democratie ...       2\n",
       "8           9. Staatkundig Gereformeerde Partij (SGP)       1\n",
       "9                                          11. 50PLUS       1\n",
       "10                          16. Forum voor Democratie       1"
      ]
     },
     "execution_count": 41,
     "metadata": {},
     "output_type": "execute_result"
    }
   ],
   "source": [
    "giften2016.Partij.value_counts().reset_index()"
   ]
  },
  {
   "cell_type": "markdown",
   "metadata": {
    "collapsed": true
   },
   "source": [
    "### Next step: filter out members of the government\n",
    "\n",
    "### Then: see what party received the most money\n",
    "\n",
    "### And then: who gave the biggest donations to which party?"
   ]
  }
 ],
 "metadata": {
  "kernelspec": {
   "display_name": "Python 2",
   "language": "python",
   "name": "python2"
  },
  "language_info": {
   "codemirror_mode": {
    "name": "ipython",
    "version": 2
   },
   "file_extension": ".py",
   "mimetype": "text/x-python",
   "name": "python",
   "nbconvert_exporter": "python",
   "pygments_lexer": "ipython2",
   "version": "2.7.10"
  }
 },
 "nbformat": 4,
 "nbformat_minor": 2
}
